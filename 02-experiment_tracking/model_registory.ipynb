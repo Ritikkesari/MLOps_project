{
 "cells": [
  {
   "cell_type": "code",
   "execution_count": 1,
   "id": "4e629d39-5b23-402b-abed-ae061fb9e1eb",
   "metadata": {},
   "outputs": [
    {
     "data": {
      "text/plain": [
       "[<Experiment: artifact_location='/workspaces/MLOps_project/02-experiment_tracking/mlruns/1', creation_time=1719822930781, experiment_id='1', last_update_time=1719822930781, lifecycle_stage='active', name='house-pricing-experiment', tags={}>]"
      ]
     },
     "execution_count": 1,
     "metadata": {},
     "output_type": "execute_result"
    }
   ],
   "source": [
    "from mlflow.tracking import MlflowClient\n",
    "\n",
    "MLFLOW_TRACKING_URI = \"sqlite:///mlflow.db\"\n",
    "client = MlflowClient(tracking_uri=MLFLOW_TRACKING_URI)\n",
    "\n",
    "client.search_experiments()\n"
   ]
  },
  {
   "cell_type": "code",
   "execution_count": 2,
   "id": "f6d26615-4994-4bc1-8202-b62834948670",
   "metadata": {},
   "outputs": [],
   "source": [
    "from mlflow.entities import ViewType\n",
    "\n",
    "runs = client.search_runs(\n",
    "    experiment_ids='1',\n",
    "    filter_string=\"metrics.rmse >1\",\n",
    "    run_view_type=ViewType.ACTIVE_ONLY,\n",
    "    max_results=5,\n",
    "    order_by=[\"metrics.rmse ASC\"]\n",
    ")\n"
   ]
  },
  {
   "cell_type": "code",
   "execution_count": 3,
   "id": "6eab10ae-8b98-4a80-8953-dee37f8e39f1",
   "metadata": {},
   "outputs": [
    {
     "name": "stdout",
     "output_type": "stream",
     "text": [
      "run id: ebec85ece752449596f1743f425ebf99, rmse: 1335981.0995\n",
      "run id: 83a6cba7c4f34d7f967f68828a220c9b, rmse: 1345497.3778\n",
      "run id: da4bbea9fa9246a2a7c67cda05ea8b86, rmse: 1349097.9984\n",
      "run id: ba1c744299fa4497835a99c35f79d291, rmse: 1376843.6824\n",
      "run id: 36f3cdaa79b54e22a37763c876fc82f5, rmse: 1376843.6824\n"
     ]
    }
   ],
   "source": [
    "\n",
    "for run in runs:\n",
    "    print(f\"run id: {run.info.run_id}, rmse: {run.data.metrics['rmse']:.4f}\")"
   ]
  },
  {
   "cell_type": "code",
   "execution_count": 4,
   "id": "64de607e-08fa-4101-8607-e9789db1b825",
   "metadata": {},
   "outputs": [
    {
     "name": "stderr",
     "output_type": "stream",
     "text": [
      "Registered model 'House-pricing-model' already exists. Creating a new version of this model...\n",
      "Created version '3' of model 'House-pricing-model'.\n"
     ]
    },
    {
     "data": {
      "text/plain": [
       "<ModelVersion: aliases=[], creation_timestamp=1719933601243, current_stage='None', description=None, last_updated_timestamp=1719933601243, name='House-pricing-model', run_id='4f4244ef75764938ad5bd8d08f8642ab', run_link=None, source='/workspaces/MLOps_project/02-experiment_tracking/mlruns/1/4f4244ef75764938ad5bd8d08f8642ab/artifacts/model', status='READY', status_message=None, tags={}, user_id=None, version=3>"
      ]
     },
     "execution_count": 4,
     "metadata": {},
     "output_type": "execute_result"
    }
   ],
   "source": [
    "# Interacting with the Model Registry\n",
    "\n",
    "import mlflow\n",
    "\n",
    "mlflow.set_tracking_uri(MLFLOW_TRACKING_URI)\n",
    "\n",
    "run_id = \"4f4244ef75764938ad5bd8d08f8642ab\"\n",
    "model_uri = f\"runs:/{run_id}/model\"\n",
    "mlflow.register_model(model_uri=model_uri, name=\"House-pricing-model\")"
   ]
  },
  {
   "cell_type": "code",
   "execution_count": 5,
   "id": "5341cffe-3277-4fbf-87c8-aef841f31b6e",
   "metadata": {},
   "outputs": [
    {
     "name": "stdout",
     "output_type": "stream",
     "text": [
      "version: 3, stage: None\n",
      "version: 2, stage: Production\n"
     ]
    },
    {
     "name": "stderr",
     "output_type": "stream",
     "text": [
      "/tmp/ipykernel_38554/2232596705.py:2: FutureWarning: ``mlflow.tracking.client.MlflowClient.get_latest_versions`` is deprecated since 2.9.0. Model registry stages will be removed in a future major release. To learn more about the deprecation of model registry stages, see our migration guide here: https://mlflow.org/docs/latest/model-registry.html#migrating-from-stages\n",
      "  latest_versions = client.get_latest_versions(name=model_name)\n"
     ]
    }
   ],
   "source": [
    "\n",
    "model_name = \"House-pricing-model\"\n",
    "latest_versions = client.get_latest_versions(name=model_name)\n",
    "\n",
    "for version in latest_versions:\n",
    "    print(f\"version: {version.version}, stage: {version.current_stage}\")"
   ]
  },
  {
   "cell_type": "code",
   "execution_count": 22,
   "id": "b828561b-afb6-4289-9ae1-048eb84acfd5",
   "metadata": {},
   "outputs": [
    {
     "name": "stderr",
     "output_type": "stream",
     "text": [
      "/tmp/ipykernel_4474/4090915774.py:3: FutureWarning: ``mlflow.tracking.client.MlflowClient.transition_model_version_stage`` is deprecated since 2.9.0. Model registry stages will be removed in a future major release. To learn more about the deprecation of model registry stages, see our migration guide here: https://mlflow.org/docs/latest/model-registry.html#migrating-from-stages\n",
      "  client.transition_model_version_stage(\n"
     ]
    },
    {
     "data": {
      "text/plain": [
       "<ModelVersion: aliases=[], creation_timestamp=1719860009520, current_stage='Staging', description=None, last_updated_timestamp=1719860072734, name='House-pricing-model', run_id='ebec85ece752449596f1743f425ebf99', run_link=None, source='/workspaces/MLOps_project/02-experiment_tracking/mlruns/1/ebec85ece752449596f1743f425ebf99/artifacts/model', status='READY', status_message=None, tags={}, user_id=None, version=2>"
      ]
     },
     "execution_count": 22,
     "metadata": {},
     "output_type": "execute_result"
    }
   ],
   "source": [
    "model_version = 2\n",
    "new_stage = \"Staging\"\n",
    "client.transition_model_version_stage(\n",
    "    name=model_name,\n",
    "    version=model_version,\n",
    "    stage=new_stage,\n",
    "    archive_existing_versions=False\n",
    ")"
   ]
  },
  {
   "cell_type": "code",
   "execution_count": 23,
   "id": "48126ece-db27-4a10-82ab-99edc80f088d",
   "metadata": {},
   "outputs": [
    {
     "data": {
      "text/plain": [
       "<ModelVersion: aliases=[], creation_timestamp=1719860009520, current_stage='Staging', description='The model version 2 was transitioned to Staging on 2024-07-01', last_updated_timestamp=1719860417676, name='House-pricing-model', run_id='ebec85ece752449596f1743f425ebf99', run_link=None, source='/workspaces/MLOps_project/02-experiment_tracking/mlruns/1/ebec85ece752449596f1743f425ebf99/artifacts/model', status='READY', status_message=None, tags={}, user_id=None, version=2>"
      ]
     },
     "execution_count": 23,
     "metadata": {},
     "output_type": "execute_result"
    }
   ],
   "source": [
    "from datetime import datetime\n",
    "\n",
    "date = datetime.today().date()\n",
    "client.update_model_version(\n",
    "    name=model_name,\n",
    "    version=model_version,\n",
    "    description=f\"The model version {model_version} was transitioned to {new_stage} on {date}\"\n",
    ")"
   ]
  },
  {
   "cell_type": "code",
   "execution_count": 24,
   "id": "f1abe1b4-509e-4760-9f63-bea8b9750e69",
   "metadata": {},
   "outputs": [
    {
     "name": "stderr",
     "output_type": "stream",
     "text": [
      "/tmp/ipykernel_4474/3059153048.py:3: FutureWarning: ``mlflow.tracking.client.MlflowClient.transition_model_version_stage`` is deprecated since 2.9.0. Model registry stages will be removed in a future major release. To learn more about the deprecation of model registry stages, see our migration guide here: https://mlflow.org/docs/latest/model-registry.html#migrating-from-stages\n",
      "  client.transition_model_version_stage(\n"
     ]
    },
    {
     "data": {
      "text/plain": [
       "<ModelVersion: aliases=[], creation_timestamp=1719860009520, current_stage='Production', description='The model version 2 was transitioned to Staging on 2024-07-01', last_updated_timestamp=1719861299532, name='House-pricing-model', run_id='ebec85ece752449596f1743f425ebf99', run_link=None, source='/workspaces/MLOps_project/02-experiment_tracking/mlruns/1/ebec85ece752449596f1743f425ebf99/artifacts/model', status='READY', status_message=None, tags={}, user_id=None, version=2>"
      ]
     },
     "execution_count": 24,
     "metadata": {},
     "output_type": "execute_result"
    }
   ],
   "source": [
    "model_version = 2\n",
    "new_stage = \"Production\"\n",
    "client.transition_model_version_stage(\n",
    "    name=model_name,\n",
    "    version=model_version,\n",
    "    stage=new_stage,\n",
    "    archive_existing_versions=False\n",
    ")"
   ]
  },
  {
   "cell_type": "code",
   "execution_count": null,
   "id": "725fbf73-564a-4f47-8b86-77818a54830b",
   "metadata": {},
   "outputs": [],
   "source": []
  }
 ],
 "metadata": {
  "kernelspec": {
   "display_name": "Python 3 (ipykernel)",
   "language": "python",
   "name": "python3"
  },
  "language_info": {
   "codemirror_mode": {
    "name": "ipython",
    "version": 3
   },
   "file_extension": ".py",
   "mimetype": "text/x-python",
   "name": "python",
   "nbconvert_exporter": "python",
   "pygments_lexer": "ipython3",
   "version": "3.12.4"
  }
 },
 "nbformat": 4,
 "nbformat_minor": 5
}
