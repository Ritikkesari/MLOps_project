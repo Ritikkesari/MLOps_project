{
 "cells": [
  {
   "cell_type": "code",
   "execution_count": 3,
   "id": "1793165c-f340-4de1-b92c-af8d0b55f0e4",
   "metadata": {},
   "outputs": [],
   "source": [
    "from mlflow.tracking import MlflowClient\n",
    "import mlflow\n",
    "import pickle\n"
   ]
  },
  {
   "cell_type": "code",
   "execution_count": 4,
   "id": "9b3227fc-9d33-40dd-9286-7bce5b65f123",
   "metadata": {},
   "outputs": [
    {
     "name": "stdout",
     "output_type": "stream",
     "text": [
      "<mlflow.tracking.client.MlflowClient object at 0x7f33c440c230>\n"
     ]
    }
   ],
   "source": [
    "# Define your MLflow model name and version\n",
    "model_name = \"House-pricing-model\"\n",
    "model_version = \"4\"\n",
    "\n",
    "# SQLite URI for MLflow tracking server\n",
    "mlflow_uri = \"sqlite:///mlflow.db\"  # Replace with the actual path to your mlflow.db file\n",
    "\n",
    "try:\n",
    "    # Initialize MLflow client\n",
    "    mlflow.set_tracking_uri(mlflow_uri)\n",
    "    client = mlflow.tracking.MlflowClient()\n",
    "    print(client)\n",
    "\n",
    "    # Get registered model details\n",
    "    model_details = client.get_registered_model(model_name)\n",
    "\n",
    "    # Load the model using its latest version\n",
    "    model_version_details = client.get_model_version(model_details.name, model_version)\n",
    "    model_uri = model_version_details.source\n",
    "\n",
    "    # Alternatively, you can load the model using specific version URI\n",
    "    # model_uri = f\"{mlflow_uri}#models:/{model_name}/{model_version}\"\n",
    "\n",
    "except Exception as e:\n",
    "    raise e"
   ]
  },
  {
   "cell_type": "code",
   "execution_count": null,
   "id": "be14097b-e93b-40af-a185-3ceec87f8e3b",
   "metadata": {},
   "outputs": [],
   "source": []
  }
 ],
 "metadata": {
  "kernelspec": {
   "display_name": "Python 3 (ipykernel)",
   "language": "python",
   "name": "python3"
  },
  "language_info": {
   "codemirror_mode": {
    "name": "ipython",
    "version": 3
   },
   "file_extension": ".py",
   "mimetype": "text/x-python",
   "name": "python",
   "nbconvert_exporter": "python",
   "pygments_lexer": "ipython3",
   "version": "3.12.4"
  }
 },
 "nbformat": 4,
 "nbformat_minor": 5
}
