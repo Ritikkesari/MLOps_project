{
 "cells": [
  {
   "cell_type": "code",
   "execution_count": 17,
   "id": "d6d5159e-92a3-46e2-8bb4-0f52276a119a",
   "metadata": {},
   "outputs": [
    {
     "name": "stderr",
     "output_type": "stream",
     "text": [
      "INFO:__main__:Successfully loaded MLflow model 'House-pricing-model' version '3' from '/workspaces/MLOps_project/02-experiment_tracking/mlruns/1/4f4244ef75764938ad5bd8d08f8642ab/artifacts/model'\n"
     ]
    },
    {
     "ename": "ValueError",
     "evalue": "feature_names mismatch: ['area', 'bedrooms', 'bathrooms', 'stories', 'parking', 'furnished', 'semi-furnished', 'unfurnished', 'mainroad_new'] ['area', 'bedrooms', 'bathrooms', 'stories', 'parking', 'furnished', 'semi_furnished', 'unfurnished', 'mainroad_new']\nexpected semi-furnished in input data\ntraining data did not have the following fields: semi_furnished",
     "output_type": "error",
     "traceback": [
      "\u001b[0;31m---------------------------------------------------------------------------\u001b[0m",
      "\u001b[0;31mValueError\u001b[0m                                Traceback (most recent call last)",
      "Cell \u001b[0;32mIn[17], line 60\u001b[0m\n\u001b[1;32m     56\u001b[0m df \u001b[38;5;241m=\u001b[39m pd\u001b[38;5;241m.\u001b[39mDataFrame([\u001b[38;5;28minput\u001b[39m])\n\u001b[1;32m     58\u001b[0m df\u001b[38;5;241m.\u001b[39mhead()\n\u001b[0;32m---> 60\u001b[0m prediction \u001b[38;5;241m=\u001b[39m loaded_model\u001b[38;5;241m.\u001b[39mpredict(df)\n",
      "File \u001b[0;32m/opt/conda/envs/venv/lib/python3.12/site-packages/mlflow/pyfunc/__init__.py:737\u001b[0m, in \u001b[0;36mPyFuncModel.predict\u001b[0;34m(self, data, params)\u001b[0m\n\u001b[1;32m    735\u001b[0m \u001b[38;5;28;01mwith\u001b[39;00m \u001b[38;5;28mself\u001b[39m\u001b[38;5;241m.\u001b[39m_try_get_or_generate_prediction_context() \u001b[38;5;28;01mas\u001b[39;00m context:\n\u001b[1;32m    736\u001b[0m     \u001b[38;5;28mself\u001b[39m\u001b[38;5;241m.\u001b[39m_update_dependencies_schemas_in_prediction_context(context)\n\u001b[0;32m--> 737\u001b[0m     \u001b[38;5;28;01mreturn\u001b[39;00m \u001b[38;5;28mself\u001b[39m\u001b[38;5;241m.\u001b[39m_predict(data, params)\n",
      "File \u001b[0;32m/opt/conda/envs/venv/lib/python3.12/site-packages/mlflow/pyfunc/__init__.py:769\u001b[0m, in \u001b[0;36mPyFuncModel._predict\u001b[0;34m(self, data, params)\u001b[0m\n\u001b[1;32m    767\u001b[0m data, params \u001b[38;5;241m=\u001b[39m \u001b[38;5;28mself\u001b[39m\u001b[38;5;241m.\u001b[39m_validate_prediction_input(data, params)\n\u001b[1;32m    768\u001b[0m \u001b[38;5;28;01mif\u001b[39;00m inspect\u001b[38;5;241m.\u001b[39msignature(\u001b[38;5;28mself\u001b[39m\u001b[38;5;241m.\u001b[39m_predict_fn)\u001b[38;5;241m.\u001b[39mparameters\u001b[38;5;241m.\u001b[39mget(\u001b[38;5;124m\"\u001b[39m\u001b[38;5;124mparams\u001b[39m\u001b[38;5;124m\"\u001b[39m):\n\u001b[0;32m--> 769\u001b[0m     \u001b[38;5;28;01mreturn\u001b[39;00m \u001b[38;5;28mself\u001b[39m\u001b[38;5;241m.\u001b[39m_predict_fn(data, params\u001b[38;5;241m=\u001b[39mparams)\n\u001b[1;32m    771\u001b[0m _log_warning_if_params_not_in_predict_signature(_logger, params)\n\u001b[1;32m    772\u001b[0m \u001b[38;5;28;01mreturn\u001b[39;00m \u001b[38;5;28mself\u001b[39m\u001b[38;5;241m.\u001b[39m_predict_fn(data)\n",
      "File \u001b[0;32m/opt/conda/envs/venv/lib/python3.12/site-packages/mlflow/xgboost/__init__.py:360\u001b[0m, in \u001b[0;36m_XGBModelWrapper.predict\u001b[0;34m(self, dataframe, params)\u001b[0m\n\u001b[1;32m    357\u001b[0m \u001b[38;5;28;01mimport\u001b[39;00m \u001b[38;5;21;01mxgboost\u001b[39;00m \u001b[38;5;28;01mas\u001b[39;00m \u001b[38;5;21;01mxgb\u001b[39;00m\n\u001b[1;32m    359\u001b[0m \u001b[38;5;28;01mif\u001b[39;00m \u001b[38;5;28misinstance\u001b[39m(\u001b[38;5;28mself\u001b[39m\u001b[38;5;241m.\u001b[39mxgb_model, xgb\u001b[38;5;241m.\u001b[39mBooster):\n\u001b[0;32m--> 360\u001b[0m     \u001b[38;5;28;01mreturn\u001b[39;00m \u001b[38;5;28mself\u001b[39m\u001b[38;5;241m.\u001b[39mxgb_model\u001b[38;5;241m.\u001b[39mpredict(xgb\u001b[38;5;241m.\u001b[39mDMatrix(dataframe))\n\u001b[1;32m    361\u001b[0m \u001b[38;5;28;01melse\u001b[39;00m:\n\u001b[1;32m    362\u001b[0m     \u001b[38;5;28;01mreturn\u001b[39;00m \u001b[38;5;28mself\u001b[39m\u001b[38;5;241m.\u001b[39mxgb_model\u001b[38;5;241m.\u001b[39mpredict(dataframe)\n",
      "File \u001b[0;32m/opt/conda/envs/venv/lib/python3.12/site-packages/xgboost/core.py:2359\u001b[0m, in \u001b[0;36mBooster.predict\u001b[0;34m(self, data, output_margin, pred_leaf, pred_contribs, approx_contribs, pred_interactions, validate_features, training, iteration_range, strict_shape)\u001b[0m\n\u001b[1;32m   2357\u001b[0m \u001b[38;5;28;01mif\u001b[39;00m validate_features:\n\u001b[1;32m   2358\u001b[0m     fn \u001b[38;5;241m=\u001b[39m data\u001b[38;5;241m.\u001b[39mfeature_names\n\u001b[0;32m-> 2359\u001b[0m     \u001b[38;5;28mself\u001b[39m\u001b[38;5;241m.\u001b[39m_validate_features(fn)\n\u001b[1;32m   2360\u001b[0m args \u001b[38;5;241m=\u001b[39m {\n\u001b[1;32m   2361\u001b[0m     \u001b[38;5;124m\"\u001b[39m\u001b[38;5;124mtype\u001b[39m\u001b[38;5;124m\"\u001b[39m: \u001b[38;5;241m0\u001b[39m,\n\u001b[1;32m   2362\u001b[0m     \u001b[38;5;124m\"\u001b[39m\u001b[38;5;124mtraining\u001b[39m\u001b[38;5;124m\"\u001b[39m: training,\n\u001b[0;32m   (...)\u001b[0m\n\u001b[1;32m   2365\u001b[0m     \u001b[38;5;124m\"\u001b[39m\u001b[38;5;124mstrict_shape\u001b[39m\u001b[38;5;124m\"\u001b[39m: strict_shape,\n\u001b[1;32m   2366\u001b[0m }\n\u001b[1;32m   2368\u001b[0m \u001b[38;5;28;01mdef\u001b[39;00m \u001b[38;5;21massign_type\u001b[39m(t: \u001b[38;5;28mint\u001b[39m) \u001b[38;5;241m-\u001b[39m\u001b[38;5;241m>\u001b[39m \u001b[38;5;28;01mNone\u001b[39;00m:\n",
      "File \u001b[0;32m/opt/conda/envs/venv/lib/python3.12/site-packages/xgboost/core.py:3075\u001b[0m, in \u001b[0;36mBooster._validate_features\u001b[0;34m(self, feature_names)\u001b[0m\n\u001b[1;32m   3069\u001b[0m \u001b[38;5;28;01mif\u001b[39;00m my_missing:\n\u001b[1;32m   3070\u001b[0m     msg \u001b[38;5;241m+\u001b[39m\u001b[38;5;241m=\u001b[39m (\n\u001b[1;32m   3071\u001b[0m         \u001b[38;5;124m\"\u001b[39m\u001b[38;5;130;01m\\n\u001b[39;00m\u001b[38;5;124mtraining data did not have the following fields: \u001b[39m\u001b[38;5;124m\"\u001b[39m\n\u001b[1;32m   3072\u001b[0m         \u001b[38;5;241m+\u001b[39m \u001b[38;5;124m\"\u001b[39m\u001b[38;5;124m, \u001b[39m\u001b[38;5;124m\"\u001b[39m\u001b[38;5;241m.\u001b[39mjoin(\u001b[38;5;28mstr\u001b[39m(s) \u001b[38;5;28;01mfor\u001b[39;00m s \u001b[38;5;129;01min\u001b[39;00m my_missing)\n\u001b[1;32m   3073\u001b[0m     )\n\u001b[0;32m-> 3075\u001b[0m \u001b[38;5;28;01mraise\u001b[39;00m \u001b[38;5;167;01mValueError\u001b[39;00m(msg\u001b[38;5;241m.\u001b[39mformat(\u001b[38;5;28mself\u001b[39m\u001b[38;5;241m.\u001b[39mfeature_names, feature_names))\n",
      "\u001b[0;31mValueError\u001b[0m: feature_names mismatch: ['area', 'bedrooms', 'bathrooms', 'stories', 'parking', 'furnished', 'semi-furnished', 'unfurnished', 'mainroad_new'] ['area', 'bedrooms', 'bathrooms', 'stories', 'parking', 'furnished', 'semi_furnished', 'unfurnished', 'mainroad_new']\nexpected semi-furnished in input data\ntraining data did not have the following fields: semi_furnished"
     ]
    }
   ],
   "source": [
    "# app.py\n",
    "\n",
    "from fastapi import FastAPI, HTTPException, Request\n",
    "from pydantic import BaseModel, Field\n",
    "import mlflow\n",
    "import pandas as pd\n",
    "import uvicorn\n",
    "import logging\n",
    "\n",
    "app = FastAPI()\n",
    "\n",
    "# Set up logging\n",
    "logging.basicConfig(level=logging.INFO)\n",
    "logger = logging.getLogger(__name__)\n",
    "\n",
    "# Define your MLflow model name and version\n",
    "model_name = \"House-pricing-model\"\n",
    "model_version = \"3\"\n",
    "\n",
    "# SQLite URI for MLflow tracking server\n",
    "mlflow_uri = \"sqlite:///mlflow.db\"  # Replace with the actual path to your mlflow.db file\n",
    "\n",
    "try:\n",
    "    # Initialize MLflow client\n",
    "    mlflow.set_tracking_uri(mlflow_uri)\n",
    "    client = mlflow.tracking.MlflowClient()\n",
    "\n",
    "    # Get registered model details\n",
    "    model_details = client.get_registered_model(model_name)\n",
    "\n",
    "    # Load the model using its latest version\n",
    "    model_version_details = client.get_model_version(model_details.name, model_version)\n",
    "    model_uri = model_version_details.source\n",
    "\n",
    "    # Alternatively, you can load the model using specific version URI\n",
    "    # model_uri = f\"{mlflow_uri}#models:/{model_name}/{model_version}\"\n",
    "\n",
    "    # Load the model\n",
    "    loaded_model = mlflow.pyfunc.load_model(model_uri)\n",
    "    logger.info(f\"Successfully loaded MLflow model '{model_name}' version '{model_version}' from '{model_uri}'\")\n",
    "except Exception as e:\n",
    "    logger.error(f\"Failed to load MLflow model: {str(e)}\")\n",
    "    raise e\n",
    "\n",
    "input = {\n",
    "  \"area\": 1500,\n",
    "  \"bedrooms\": 3,\n",
    "  \"bathrooms\": 2,\n",
    "  \"stories\": 2,\n",
    "  \"parking\": 1,\n",
    "  \"furnished\": 0,\n",
    "  \"semi_furnished\": 1,\n",
    "  \"unfurnished\": 0,\n",
    "  \"mainroad_new\": 1\n",
    "}\n",
    "df = pd.DataFrame([input])\n",
    "\n",
    "df.head()\n",
    "\n",
    "prediction = loaded_model.predict(df)\n"
   ]
  },
  {
   "cell_type": "code",
   "execution_count": null,
   "id": "4cf9961f-ec82-4509-8030-c48af44f330c",
   "metadata": {},
   "outputs": [],
   "source": []
  }
 ],
 "metadata": {
  "kernelspec": {
   "display_name": "Python 3 (ipykernel)",
   "language": "python",
   "name": "python3"
  },
  "language_info": {
   "codemirror_mode": {
    "name": "ipython",
    "version": 3
   },
   "file_extension": ".py",
   "mimetype": "text/x-python",
   "name": "python",
   "nbconvert_exporter": "python",
   "pygments_lexer": "ipython3",
   "version": "3.12.4"
  }
 },
 "nbformat": 4,
 "nbformat_minor": 5
}
